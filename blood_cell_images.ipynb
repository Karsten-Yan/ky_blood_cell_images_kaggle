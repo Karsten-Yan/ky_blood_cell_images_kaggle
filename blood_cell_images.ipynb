{
  "nbformat": 4,
  "nbformat_minor": 0,
  "metadata": {
    "colab": {
      "name": "blood_cell_images.ipynb",
      "provenance": [],
      "collapsed_sections": [],
      "authorship_tag": "ABX9TyPL9drJ10yuhDrfA+AcIXFF",
      "include_colab_link": true
    },
    "kernelspec": {
      "name": "python3",
      "display_name": "Python 3"
    },
    "accelerator": "GPU"
  },
  "cells": [
    {
      "cell_type": "markdown",
      "metadata": {
        "id": "view-in-github",
        "colab_type": "text"
      },
      "source": [
        "<a href=\"https://colab.research.google.com/github/Karsten-Yan/ky_blood_cell_images_kaggle/blob/master/blood_cell_images.ipynb\" target=\"_parent\"><img src=\"https://colab.research.google.com/assets/colab-badge.svg\" alt=\"Open In Colab\"/></a>"
      ]
    },
    {
      "cell_type": "code",
      "metadata": {
        "id": "zDLdEnfddXLm",
        "colab_type": "code",
        "colab": {}
      },
      "source": [
        "import os\n",
        "import zipfile\n",
        "import numpy as np\n",
        "import tensorflow as tf\n",
        "from tensorflow.keras.preprocessing.image import ImageDataGenerator"
      ],
      "execution_count": 1,
      "outputs": []
    },
    {
      "cell_type": "code",
      "metadata": {
        "id": "-yQGFFPhHjba",
        "colab_type": "code",
        "colab": {
          "resources": {
            "http://localhost:8080/nbextensions/google.colab/files.js": {
              "data": "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",
              "ok": true,
              "headers": [
                [
                  "content-type",
                  "application/javascript"
                ]
              ],
              "status": 200,
              "status_text": ""
            }
          },
          "base_uri": "https://localhost:8080/",
          "height": 72
        },
        "outputId": "092fdceb-5e67-48cb-ee93-4561b5cd11bd"
      },
      "source": [
        "#upload kaggle.json api file\n",
        "from google.colab import files\n",
        "uploaded = files.upload()"
      ],
      "execution_count": 2,
      "outputs": [
        {
          "output_type": "display_data",
          "data": {
            "text/html": [
              "\n",
              "     <input type=\"file\" id=\"files-f99af61c-1b7d-42c9-87db-c36085ab52d5\" name=\"files[]\" multiple disabled\n",
              "        style=\"border:none\" />\n",
              "     <output id=\"result-f99af61c-1b7d-42c9-87db-c36085ab52d5\">\n",
              "      Upload widget is only available when the cell has been executed in the\n",
              "      current browser session. Please rerun this cell to enable.\n",
              "      </output>\n",
              "      <script src=\"/nbextensions/google.colab/files.js\"></script> "
            ],
            "text/plain": [
              "<IPython.core.display.HTML object>"
            ]
          },
          "metadata": {
            "tags": []
          }
        },
        {
          "output_type": "stream",
          "text": [
            "Saving kaggle.json to kaggle (1).json\n"
          ],
          "name": "stdout"
        }
      ]
    },
    {
      "cell_type": "code",
      "metadata": {
        "id": "rDpIBePndb4j",
        "colab_type": "code",
        "colab": {
          "base_uri": "https://localhost:8080/",
          "height": 51
        },
        "outputId": "dd8a05ed-dba7-49e6-8ef6-79c15cb89c72"
      },
      "source": [
        "!mkdir /root/.kaggle\n",
        "!mv /content/kaggle.json /root/.kaggle\n",
        "!chmod 600 /root/.kaggle/kaggle.json\n",
        "!kaggle datasets download -d paultimothymooney/blood-cells"
      ],
      "execution_count": 3,
      "outputs": [
        {
          "output_type": "stream",
          "text": [
            "mkdir: cannot create directory ‘/root/.kaggle’: File exists\n",
            "blood-cells.zip: Skipping, found more recently modified local copy (use --force to force download)\n"
          ],
          "name": "stdout"
        }
      ]
    },
    {
      "cell_type": "code",
      "metadata": {
        "id": "tyxyGEtGdgCI",
        "colab_type": "code",
        "colab": {}
      },
      "source": [
        "zip_ref = zipfile.ZipFile('blood-cells.zip', 'r')\n",
        "zip_ref.extractall()\n",
        "zip_ref.close()"
      ],
      "execution_count": 4,
      "outputs": []
    },
    {
      "cell_type": "code",
      "metadata": {
        "id": "HPDcohbLdoCY",
        "colab_type": "code",
        "colab": {}
      },
      "source": [
        "train_datagen = ImageDataGenerator(\n",
        "        rescale = 1./255.,\n",
        "        #validation_split=0.2\n",
        "    )\n",
        "\n",
        "validation_datagen = ImageDataGenerator(\n",
        "    rescale = 1.0/255.)"
      ],
      "execution_count": 5,
      "outputs": []
    },
    {
      "cell_type": "code",
      "metadata": {
        "id": "zAx_yphrd2C_",
        "colab_type": "code",
        "colab": {}
      },
      "source": [
        "base_dir = '/content/dataset2-master/dataset2-master/images'\n",
        "\n",
        "train_dir = os.path.join(base_dir, 'TRAIN')\n",
        "validation_dir = os.path.join(base_dir, 'TEST')\n",
        "\n",
        "# Directory with our training cat/dog pictures\n",
        "train_eo_dir = os.path.join(train_dir, 'EOSINOPHIL')\n",
        "train_lympho_dir = os.path.join(train_dir, 'LYMPHOCYTE')\n",
        "train_mono_dir = os.path.join(train_dir, 'MONOCYTE')\n",
        "train_neutro_dir = os.path.join(train_dir, 'NEUTROPHIL')\n",
        "\n",
        "# Directory with our validation cat/dog pictures\n",
        "test_eo_dir = os.path.join(validation_dir, 'EOSINOPHIL')\n",
        "test_lympho_dir = os.path.join(validation_dir, 'LYMPHOCYTE')\n",
        "test_mono_dir = os.path.join(validation_dir, 'MONOCYTE')\n",
        "test_neutro_dir = os.path.join(validation_dir, 'NEUTROPHIL')\n"
      ],
      "execution_count": 6,
      "outputs": []
    },
    {
      "cell_type": "code",
      "metadata": {
        "id": "a2Gqe3tNeiuS",
        "colab_type": "code",
        "colab": {
          "base_uri": "https://localhost:8080/",
          "height": 68
        },
        "outputId": "36ef0f68-e457-4055-ec4f-bf7d14845246"
      },
      "source": [
        "train_generator = train_datagen.flow_from_directory(train_dir,\n",
        "                                                    batch_size=32,\n",
        "                                                    class_mode='categorical',\n",
        "                                                    target_size=(150, 150),\n",
        "                                                    #subset=\"training\"\n",
        "                                                    ) \n",
        "val_generator = train_datagen.flow_from_directory(train_dir,\n",
        "                                                    batch_size=32,\n",
        "                                                    class_mode='categorical',\n",
        "                                                    target_size=(150, 150),\n",
        "                                                    subset=\"validation\")   \n",
        "validation_generator =  validation_datagen.flow_from_directory(validation_dir,\n",
        "                                                         batch_size=32,\n",
        "                                                         class_mode  = 'categorical',\n",
        "                                                         target_size = (150, 150))"
      ],
      "execution_count": 7,
      "outputs": [
        {
          "output_type": "stream",
          "text": [
            "Found 9957 images belonging to 4 classes.\n",
            "Found 0 images belonging to 4 classes.\n",
            "Found 2487 images belonging to 4 classes.\n"
          ],
          "name": "stdout"
        }
      ]
    },
    {
      "cell_type": "code",
      "metadata": {
        "id": "_Yz2gTgp1qkL",
        "colab_type": "code",
        "colab": {}
      },
      "source": [
        "tf.random.set_seed(\n",
        "    42\n",
        ")"
      ],
      "execution_count": 8,
      "outputs": []
    },
    {
      "cell_type": "code",
      "metadata": {
        "id": "xVfeJj32e3KS",
        "colab_type": "code",
        "colab": {}
      },
      "source": [
        "model = tf.keras.models.Sequential([\n",
        "    tf.keras.layers.Conv2D(16, (3,3), activation='relu', input_shape=(150, 150, 3)),\n",
        "    tf.keras.layers.MaxPooling2D(2,2),\n",
        "    tf.keras.layers.Conv2D(32, (3,3), activation='relu'),\n",
        "    tf.keras.layers.MaxPooling2D(2,2),\n",
        "    tf.keras.layers.Conv2D(64, (3,3), activation='relu'),\n",
        "    tf.keras.layers.MaxPooling2D(2,2),\n",
        "    tf.keras.layers.Flatten(), \n",
        "    tf.keras.layers.Dense(64, activation='relu', kernel_regularizer=\"l2\"),\n",
        "    #tf.keras.layers.BatchNormalization(),\n",
        "    tf.keras.layers.Dropout(0.3),\n",
        "    tf.keras.layers.Dense(4, activation='softmax') \n",
        "])\n",
        "\n",
        "# Compile Model. \n",
        "from tensorflow.keras.optimizers import RMSprop\n",
        "model.compile(optimizer=RMSprop(learning_rate = 0.001), loss='categorical_crossentropy', metrics=['accuracy'])"
      ],
      "execution_count": 9,
      "outputs": []
    },
    {
      "cell_type": "code",
      "metadata": {
        "id": "I-RFRN2Sfu48",
        "colab_type": "code",
        "colab": {
          "base_uri": "https://localhost:8080/",
          "height": 493
        },
        "outputId": "aa0b9571-0e8b-40c4-e072-43de4cf83af7"
      },
      "source": [
        "model.summary()"
      ],
      "execution_count": 10,
      "outputs": [
        {
          "output_type": "stream",
          "text": [
            "Model: \"sequential\"\n",
            "_________________________________________________________________\n",
            "Layer (type)                 Output Shape              Param #   \n",
            "=================================================================\n",
            "conv2d (Conv2D)              (None, 148, 148, 16)      448       \n",
            "_________________________________________________________________\n",
            "max_pooling2d (MaxPooling2D) (None, 74, 74, 16)        0         \n",
            "_________________________________________________________________\n",
            "conv2d_1 (Conv2D)            (None, 72, 72, 32)        4640      \n",
            "_________________________________________________________________\n",
            "max_pooling2d_1 (MaxPooling2 (None, 36, 36, 32)        0         \n",
            "_________________________________________________________________\n",
            "conv2d_2 (Conv2D)            (None, 34, 34, 64)        18496     \n",
            "_________________________________________________________________\n",
            "max_pooling2d_2 (MaxPooling2 (None, 17, 17, 64)        0         \n",
            "_________________________________________________________________\n",
            "flatten (Flatten)            (None, 18496)             0         \n",
            "_________________________________________________________________\n",
            "dense (Dense)                (None, 64)                1183808   \n",
            "_________________________________________________________________\n",
            "dropout (Dropout)            (None, 64)                0         \n",
            "_________________________________________________________________\n",
            "dense_1 (Dense)              (None, 4)                 260       \n",
            "=================================================================\n",
            "Total params: 1,207,652\n",
            "Trainable params: 1,207,652\n",
            "Non-trainable params: 0\n",
            "_________________________________________________________________\n"
          ],
          "name": "stdout"
        }
      ]
    },
    {
      "cell_type": "code",
      "metadata": {
        "id": "uLnQlKQ8fwjS",
        "colab_type": "code",
        "colab": {
          "base_uri": "https://localhost:8080/",
          "height": 1000
        },
        "outputId": "f87b8850-a6ad-4c6d-ca2f-7dd6c3511dcd"
      },
      "source": [
        "\n",
        "# Train the Model\n",
        "history = model.fit(train_generator,\n",
        "                              epochs=40,\n",
        "                              verbose=1,\n",
        "                              validation_data=validation_generator,\n",
        "                              )"
      ],
      "execution_count": 11,
      "outputs": [
        {
          "output_type": "stream",
          "text": [
            "Epoch 1/40\n",
            "312/312 [==============================] - 26s 85ms/step - loss: 1.4361 - accuracy: 0.2588 - val_loss: 1.3942 - val_accuracy: 0.2754\n",
            "Epoch 2/40\n",
            "312/312 [==============================] - 26s 83ms/step - loss: 1.3352 - accuracy: 0.3661 - val_loss: 1.2303 - val_accuracy: 0.3796\n",
            "Epoch 3/40\n",
            "312/312 [==============================] - 26s 82ms/step - loss: 1.2393 - accuracy: 0.4458 - val_loss: 1.0817 - val_accuracy: 0.4942\n",
            "Epoch 4/40\n",
            "312/312 [==============================] - 26s 83ms/step - loss: 1.2132 - accuracy: 0.4681 - val_loss: 1.0715 - val_accuracy: 0.5259\n",
            "Epoch 5/40\n",
            "312/312 [==============================] - 26s 83ms/step - loss: 1.1229 - accuracy: 0.5193 - val_loss: 1.0267 - val_accuracy: 0.5794\n",
            "Epoch 6/40\n",
            "312/312 [==============================] - 26s 83ms/step - loss: 1.0559 - accuracy: 0.5644 - val_loss: 0.9918 - val_accuracy: 0.6261\n",
            "Epoch 7/40\n",
            "312/312 [==============================] - 26s 83ms/step - loss: 0.9649 - accuracy: 0.6145 - val_loss: 0.8652 - val_accuracy: 0.6691\n",
            "Epoch 8/40\n",
            "312/312 [==============================] - 26s 83ms/step - loss: 0.8874 - accuracy: 0.6455 - val_loss: 0.7822 - val_accuracy: 0.6647\n",
            "Epoch 9/40\n",
            "312/312 [==============================] - 26s 83ms/step - loss: 0.8466 - accuracy: 0.6739 - val_loss: 0.8794 - val_accuracy: 0.6550\n",
            "Epoch 10/40\n",
            "312/312 [==============================] - 26s 83ms/step - loss: 0.7824 - accuracy: 0.6905 - val_loss: 0.7700 - val_accuracy: 0.6759\n",
            "Epoch 11/40\n",
            "312/312 [==============================] - 26s 82ms/step - loss: 0.7563 - accuracy: 0.7000 - val_loss: 0.7199 - val_accuracy: 0.6651\n",
            "Epoch 12/40\n",
            "312/312 [==============================] - 25s 81ms/step - loss: 0.7062 - accuracy: 0.7101 - val_loss: 0.7178 - val_accuracy: 0.6819\n",
            "Epoch 13/40\n",
            "312/312 [==============================] - 26s 82ms/step - loss: 0.6812 - accuracy: 0.7188 - val_loss: 0.7630 - val_accuracy: 0.6602\n",
            "Epoch 14/40\n",
            "312/312 [==============================] - 26s 82ms/step - loss: 0.6728 - accuracy: 0.7323 - val_loss: 0.8483 - val_accuracy: 0.6160\n",
            "Epoch 15/40\n",
            "312/312 [==============================] - 26s 82ms/step - loss: 0.6298 - accuracy: 0.7424 - val_loss: 0.8933 - val_accuracy: 0.6755\n",
            "Epoch 16/40\n",
            "312/312 [==============================] - 26s 83ms/step - loss: 0.6279 - accuracy: 0.7546 - val_loss: 0.6075 - val_accuracy: 0.7250\n",
            "Epoch 17/40\n",
            "312/312 [==============================] - 26s 84ms/step - loss: 0.6055 - accuracy: 0.7662 - val_loss: 0.8118 - val_accuracy: 0.6779\n",
            "Epoch 18/40\n",
            "312/312 [==============================] - 26s 83ms/step - loss: 0.6034 - accuracy: 0.7757 - val_loss: 0.7092 - val_accuracy: 0.7567\n",
            "Epoch 19/40\n",
            "312/312 [==============================] - 26s 83ms/step - loss: 0.5800 - accuracy: 0.7839 - val_loss: 0.5252 - val_accuracy: 0.8078\n",
            "Epoch 20/40\n",
            "312/312 [==============================] - 26s 82ms/step - loss: 0.5459 - accuracy: 0.7996 - val_loss: 0.5817 - val_accuracy: 0.7756\n",
            "Epoch 21/40\n",
            "312/312 [==============================] - 26s 82ms/step - loss: 0.5163 - accuracy: 0.8148 - val_loss: 0.5697 - val_accuracy: 0.7756\n",
            "Epoch 22/40\n",
            "312/312 [==============================] - 26s 83ms/step - loss: 0.5016 - accuracy: 0.8306 - val_loss: 0.5025 - val_accuracy: 0.8191\n",
            "Epoch 23/40\n",
            "312/312 [==============================] - 26s 83ms/step - loss: 0.4958 - accuracy: 0.8365 - val_loss: 0.5443 - val_accuracy: 0.8098\n",
            "Epoch 24/40\n",
            "312/312 [==============================] - 26s 82ms/step - loss: 0.4614 - accuracy: 0.8509 - val_loss: 0.4502 - val_accuracy: 0.8247\n",
            "Epoch 25/40\n",
            "312/312 [==============================] - 26s 82ms/step - loss: 0.4541 - accuracy: 0.8571 - val_loss: 0.4676 - val_accuracy: 0.8303\n",
            "Epoch 26/40\n",
            "312/312 [==============================] - 25s 82ms/step - loss: 0.4431 - accuracy: 0.8626 - val_loss: 0.4259 - val_accuracy: 0.8432\n",
            "Epoch 27/40\n",
            "312/312 [==============================] - 26s 83ms/step - loss: 0.4328 - accuracy: 0.8684 - val_loss: 0.4456 - val_accuracy: 0.8416\n",
            "Epoch 28/40\n",
            "312/312 [==============================] - 26s 84ms/step - loss: 0.4059 - accuracy: 0.8793 - val_loss: 0.5705 - val_accuracy: 0.8199\n",
            "Epoch 29/40\n",
            "312/312 [==============================] - 26s 84ms/step - loss: 0.4004 - accuracy: 0.8781 - val_loss: 0.4729 - val_accuracy: 0.8126\n",
            "Epoch 30/40\n",
            "312/312 [==============================] - 26s 84ms/step - loss: 0.3971 - accuracy: 0.8861 - val_loss: 0.4398 - val_accuracy: 0.8561\n",
            "Epoch 31/40\n",
            "312/312 [==============================] - 26s 83ms/step - loss: 0.4018 - accuracy: 0.8882 - val_loss: 0.4264 - val_accuracy: 0.8460\n",
            "Epoch 32/40\n",
            "312/312 [==============================] - 26s 83ms/step - loss: 0.3955 - accuracy: 0.8890 - val_loss: 0.4272 - val_accuracy: 0.8625\n",
            "Epoch 33/40\n",
            "312/312 [==============================] - 26s 84ms/step - loss: 0.3569 - accuracy: 0.8925 - val_loss: 0.4029 - val_accuracy: 0.8548\n",
            "Epoch 34/40\n",
            "312/312 [==============================] - 26s 84ms/step - loss: 0.3890 - accuracy: 0.8939 - val_loss: 0.4124 - val_accuracy: 0.8536\n",
            "Epoch 35/40\n",
            "312/312 [==============================] - 26s 84ms/step - loss: 0.3485 - accuracy: 0.9001 - val_loss: 0.4349 - val_accuracy: 0.8613\n",
            "Epoch 36/40\n",
            "312/312 [==============================] - 26s 83ms/step - loss: 0.3464 - accuracy: 0.9010 - val_loss: 0.4410 - val_accuracy: 0.8681\n",
            "Epoch 37/40\n",
            "312/312 [==============================] - 26s 84ms/step - loss: 0.3465 - accuracy: 0.9034 - val_loss: 0.4630 - val_accuracy: 0.8408\n",
            "Epoch 38/40\n",
            "312/312 [==============================] - 26s 83ms/step - loss: 0.3309 - accuracy: 0.9079 - val_loss: 0.4622 - val_accuracy: 0.8593\n",
            "Epoch 39/40\n",
            "312/312 [==============================] - 26s 84ms/step - loss: 0.3272 - accuracy: 0.9082 - val_loss: 0.5563 - val_accuracy: 0.8054\n",
            "Epoch 40/40\n",
            "312/312 [==============================] - 26s 84ms/step - loss: 0.3090 - accuracy: 0.9148 - val_loss: 0.3644 - val_accuracy: 0.8745\n"
          ],
          "name": "stdout"
        }
      ]
    },
    {
      "cell_type": "code",
      "metadata": {
        "id": "ezpovzh-gSz8",
        "colab_type": "code",
        "colab": {
          "base_uri": "https://localhost:8080/",
          "height": 545
        },
        "outputId": "28d8d993-6ede-48a8-a044-547817520675"
      },
      "source": [
        "# Plot the chart for accuracy and loss on both training and validation\n",
        "\n",
        "import matplotlib.pyplot as plt\n",
        "acc = history.history['accuracy']\n",
        "val_acc = history.history['val_accuracy']\n",
        "loss = history.history['loss']\n",
        "val_loss = history.history['val_loss']\n",
        "\n",
        "epochs = range(len(acc))\n",
        "\n",
        "plt.plot(epochs, acc, 'r', label='Training accuracy')\n",
        "plt.plot(epochs, val_acc, 'b', label='Validation accuracy')\n",
        "plt.title('Training and validation accuracy')\n",
        "plt.legend()\n",
        "plt.figure()\n",
        "\n",
        "plt.plot(epochs, loss, 'r', label='Training Loss')\n",
        "plt.plot(epochs, val_loss, 'b', label='Validation Loss')\n",
        "plt.title('Training and validation loss')\n",
        "plt.legend()\n",
        "\n",
        "plt.show()"
      ],
      "execution_count": 12,
      "outputs": [
        {
          "output_type": "display_data",
          "data": {
            "image/png": "[encoded data removed]",
            "text/plain": [
              "<Figure size 432x288 with 1 Axes>"
            ]
          },
          "metadata": {
            "tags": [],
            "needs_background": "light"
          }
        },
        {
          "output_type": "display_data",
          "data": {
            "image/png": "[encoded data removed]",
            "text/plain": [
              "<Figure size 432x288 with 1 Axes>"
            ]
          },
          "metadata": {
            "tags": [],
            "needs_background": "light"
          }
        }
      ]
    },
    {
      "cell_type": "code",
      "metadata": {
        "id": "kpMF1YwkgcDp",
        "colab_type": "code",
        "colab": {}
      },
      "source": [
        ""
      ],
      "execution_count": 12,
      "outputs": []
    }
  ]
}