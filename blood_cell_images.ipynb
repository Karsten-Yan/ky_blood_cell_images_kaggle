{
  "nbformat": 4,
  "nbformat_minor": 0,
  "metadata": {
    "colab": {
      "name": "blood_cell_images.ipynb",
      "provenance": [],
      "collapsed_sections": [],
      "authorship_tag": "ABX9TyNm9ZNFQOZO4l00IgGjwsJV",
      "include_colab_link": true
    },
    "kernelspec": {
      "name": "python3",
      "display_name": "Python 3"
    },
    "accelerator": "GPU"
  },
  "cells": [
    {
      "cell_type": "markdown",
      "metadata": {
        "id": "view-in-github",
        "colab_type": "text"
      },
      "source": [
        "<a href=\"https://colab.research.google.com/github/Karsten-Yan/ky_blood_cell_images_kaggle/blob/master/blood_cell_images.ipynb\" target=\"_parent\"><img src=\"https://colab.research.google.com/assets/colab-badge.svg\" alt=\"Open In Colab\"/></a>"
      ]
    },
    {
      "cell_type": "code",
      "metadata": {
        "id": "zDLdEnfddXLm",
        "colab_type": "code",
        "colab": {}
      },
      "source": [
        "import os\n",
        "import zipfile\n",
        "import numpy as np\n",
        "import tensorflow as tf\n",
        "from tensorflow.keras.preprocessing.image import ImageDataGenerator"
      ],
      "execution_count": 4,
      "outputs": []
    },
    {
      "cell_type": "code",
      "metadata": {
        "id": "-yQGFFPhHjba",
        "colab_type": "code",
        "colab": {
          "resources": {
            "http://localhost:8080/nbextensions/google.colab/files.js": {
              "data": "Ly8gQ29weXJpZ2h0IDIwMTcgR29vZ2xlIExMQwovLwovLyBMaWNlbnNlZCB1bmRlciB0aGUgQXBhY2hlIExpY2Vuc2UsIFZlcnNpb24gMi4wICh0aGUgIkxpY2Vuc2UiKTsKLy8geW91IG1heSBub3QgdXNlIHRoaXMgZmlsZSBleGNlcHQgaW4gY29tcGxpYW5jZSB3aXRoIHRoZSBMaWNlbnNlLgovLyBZb3UgbWF5IG9idGFpbiBhIGNvcHkgb2YgdGhlIExpY2Vuc2UgYXQKLy8KLy8gICAgICBodHRwOi8vd3d3LmFwYWNoZS5vcmcvbGljZW5zZXMvTElDRU5TRS0yLjAKLy8KLy8gVW5sZXNzIHJlcXVpcmVkIGJ5IGFwcGxpY2FibGUgbGF3IG9yIGFncmVlZCB0byBpbiB3cml0aW5nLCBzb2Z0d2FyZQovLyBkaXN0cmlidXRlZCB1bmRlciB0aGUgTGljZW5zZSBpcyBkaXN0cmlidXRlZCBvbiBhbiAiQVMgSVMiIEJBU0lTLAovLyBXSVRIT1VUIFdBUlJBTlRJRVMgT1IgQ09ORElUSU9OUyBPRiBBTlkgS0lORCwgZWl0aGVyIGV4cHJlc3Mgb3IgaW1wbGllZC4KLy8gU2VlIHRoZSBMaWNlbnNlIGZvciB0aGUgc3BlY2lmaWMgbGFuZ3VhZ2UgZ292ZXJuaW5nIHBlcm1pc3Npb25zIGFuZAovLyBsaW1pdGF0aW9ucyB1bmRlciB0aGUgTGljZW5zZS4KCi8qKgogKiBAZmlsZW92ZXJ2aWV3IEhlbHBlcnMgZm9yIGdvb2dsZS5jb2xhYiBQeXRob24gbW9kdWxlLgogKi8KKGZ1bmN0aW9uKHNjb3BlKSB7CmZ1bmN0aW9uIHNwYW4odGV4dCwgc3R5bGVBdHRyaWJ1dGVzID0ge30pIHsKICBjb25zdCBlbGVtZW50ID0gZG9jdW1lbnQuY3JlYXRlRWxlbWVudCgnc3BhbicpOwogIGVsZW1lbnQudGV4dENvbnRlbnQgPSB0ZXh0OwogIGZvciAoY29uc3Qga2V5IG9mIE9iamVjdC5rZXlzKHN0eWxlQXR0cmlidXRlcykpIHsKICAgIGVsZW1lbnQuc3R5bGVba2V5XSA9IHN0eWxlQXR0cmlidXRlc1trZXldOwogIH0KICByZXR1cm4gZWxlbWVudDsKfQoKLy8gTWF4IG51bWJlciBvZiBieXRlcyB3aGljaCB3aWxsIGJlIHVwbG9hZGVkIGF0IGEgdGltZS4KY29uc3QgTUFYX1BBWUxPQURfU0laRSA9IDEwMCAqIDEwMjQ7CgpmdW5jdGlvbiBfdXBsb2FkRmlsZXMoaW5wdXRJZCwgb3V0cHV0SWQpIHsKICBjb25zdCBzdGVwcyA9IHVwbG9hZEZpbGVzU3RlcChpbnB1dElkLCBvdXRwdXRJZCk7CiAgY29uc3Qgb3V0cHV0RWxlbWVudCA9IGRvY3VtZW50LmdldEVsZW1lbnRCeUlkKG91dHB1dElkKTsKICAvLyBDYWNoZSBzdGVwcyBvbiB0aGUgb3V0cHV0RWxlbWVudCB0byBtYWtlIGl0IGF2YWlsYWJsZSBmb3IgdGhlIG5leHQgY2FsbAogIC8vIHRvIHVwbG9hZEZpbGVzQ29udGludWUgZnJvbSBQeXRob24uCiAgb3V0cHV0RWxlbWVudC5zdGVwcyA9IHN0ZXBzOwoKICByZXR1cm4gX3VwbG9hZEZpbGVzQ29udGludWUob3V0cHV0SWQpOwp9CgovLyBUaGlzIGlzIHJvdWdobHkgYW4gYXN5bmMgZ2VuZXJhdG9yIChub3Qgc3VwcG9ydGVkIGluIHRoZSBicm93c2VyIHlldCksCi8vIHdoZXJlIHRoZXJlIGFyZSBtdWx0aXBsZSBhc3luY2hyb25vdXMgc3RlcHMgYW5kIHRoZSBQeXRob24gc2lkZSBpcyBnb2luZwovLyB0byBwb2xsIGZvciBjb21wbGV0aW9uIG9mIGVhY2ggc3RlcC4KLy8gVGhpcyB1c2VzIGEgUHJvbWlzZSB0byBibG9jayB0aGUgcHl0aG9uIHNpZGUgb24gY29tcGxldGlvbiBvZiBlYWNoIHN0ZXAsCi8vIHRoZW4gcGFzc2VzIHRoZSByZXN1bHQgb2YgdGhlIHByZXZpb3VzIHN0ZXAgYXMgdGhlIGlucHV0IHRvIHRoZSBuZXh0IHN0ZXAuCmZ1bmN0aW9uIF91cGxvYWRGaWxlc0NvbnRpbnVlKG91dHB1dElkKSB7CiAgY29uc3Qgb3V0cHV0RWxlbWVudCA9IGRvY3VtZW50LmdldEVsZW1lbnRCeUlkKG91dHB1dElkKTsKICBjb25zdCBzdGVwcyA9IG91dHB1dEVsZW1lbnQuc3RlcHM7CgogIGNvbnN0IG5leHQgPSBzdGVwcy5uZXh0KG91dHB1dEVsZW1lbnQubGFzdFByb21pc2VWYWx1ZSk7CiAgcmV0dXJuIFByb21pc2UucmVzb2x2ZShuZXh0LnZhbHVlLnByb21pc2UpLnRoZW4oKHZhbHVlKSA9PiB7CiAgICAvLyBDYWNoZSB0aGUgbGFzdCBwcm9taXNlIHZhbHVlIHRvIG1ha2UgaXQgYXZhaWxhYmxlIHRvIHRoZSBuZXh0CiAgICAvLyBzdGVwIG9mIHRoZSBnZW5lcmF0b3IuCiAgICBvdXRwdXRFbGVtZW50Lmxhc3RQcm9taXNlVmFsdWUgPSB2YWx1ZTsKICAgIHJldHVybiBuZXh0LnZhbHVlLnJlc3BvbnNlOwogIH0pOwp9CgovKioKICogR2VuZXJhdG9yIGZ1bmN0aW9uIHdoaWNoIGlzIGNhbGxlZCBiZXR3ZWVuIGVhY2ggYXN5bmMgc3RlcCBvZiB0aGUgdXBsb2FkCiAqIHByb2Nlc3MuCiAqIEBwYXJhbSB7c3RyaW5nfSBpbnB1dElkIEVsZW1lbnQgSUQgb2YgdGhlIGlucHV0IGZpbGUgcGlja2VyIGVsZW1lbnQuCiAqIEBwYXJhbSB7c3RyaW5nfSBvdXRwdXRJZCBFbGVtZW50IElEIG9mIHRoZSBvdXRwdXQgZGlzcGxheS4KICogQHJldHVybiB7IUl0ZXJhYmxlPCFPYmplY3Q+fSBJdGVyYWJsZSBvZiBuZXh0IHN0ZXBzLgogKi8KZnVuY3Rpb24qIHVwbG9hZEZpbGVzU3RlcChpbnB1dElkLCBvdXRwdXRJZCkgewogIGNvbnN0IGlucHV0RWxlbWVudCA9IGRvY3VtZW50LmdldEVsZW1lbnRCeUlkKGlucHV0SWQpOwogIGlucHV0RWxlbWVudC5kaXNhYmxlZCA9IGZhbHNlOwoKICBjb25zdCBvdXRwdXRFbGVtZW50ID0gZG9jdW1lbnQuZ2V0RWxlbWVudEJ5SWQob3V0cHV0SWQpOwogIG91dHB1dEVsZW1lbnQuaW5uZXJIVE1MID0gJyc7CgogIGNvbnN0IHBpY2tlZFByb21pc2UgPSBuZXcgUHJvbWlzZSgocmVzb2x2ZSkgPT4gewogICAgaW5wdXRFbGVtZW50LmFkZEV2ZW50TGlzdGVuZXIoJ2NoYW5nZScsIChlKSA9PiB7CiAgICAgIHJlc29sdmUoZS50YXJnZXQuZmlsZXMpOwogICAgfSk7CiAgfSk7CgogIGNvbnN0IGNhbmNlbCA9IGRvY3VtZW50LmNyZWF0ZUVsZW1lbnQoJ2J1dHRvbicpOwogIGlucHV0RWxlbWVudC5wYXJlbnRFbGVtZW50LmFwcGVuZENoaWxkKGNhbmNlbCk7CiAgY2FuY2VsLnRleHRDb250ZW50ID0gJ0NhbmNlbCB1cGxvYWQnOwogIGNvbnN0IGNhbmNlbFByb21pc2UgPSBuZXcgUHJvbWlzZSgocmVzb2x2ZSkgPT4gewogICAgY2FuY2VsLm9uY2xpY2sgPSAoKSA9PiB7CiAgICAgIHJlc29sdmUobnVsbCk7CiAgICB9OwogIH0pOwoKICAvLyBXYWl0IGZvciB0aGUgdXNlciB0byBwaWNrIHRoZSBmaWxlcy4KICBjb25zdCBmaWxlcyA9IHlpZWxkIHsKICAgIHByb21pc2U6IFByb21pc2UucmFjZShbcGlja2VkUHJvbWlzZSwgY2FuY2VsUHJvbWlzZV0pLAogICAgcmVzcG9uc2U6IHsKICAgICAgYWN0aW9uOiAnc3RhcnRpbmcnLAogICAgfQogIH07CgogIGNhbmNlbC5yZW1vdmUoKTsKCiAgLy8gRGlzYWJsZSB0aGUgaW5wdXQgZWxlbWVudCBzaW5jZSBmdXJ0aGVyIHBpY2tzIGFyZSBub3QgYWxsb3dlZC4KICBpbnB1dEVsZW1lbnQuZGlzYWJsZWQgPSB0cnVlOwoKICBpZiAoIWZpbGVzKSB7CiAgICByZXR1cm4gewogICAgICByZXNwb25zZTogewogICAgICAgIGFjdGlvbjogJ2NvbXBsZXRlJywKICAgICAgfQogICAgfTsKICB9CgogIGZvciAoY29uc3QgZmlsZSBvZiBmaWxlcykgewogICAgY29uc3QgbGkgPSBkb2N1bWVudC5jcmVhdGVFbGVtZW50KCdsaScpOwogICAgbGkuYXBwZW5kKHNwYW4oZmlsZS5uYW1lLCB7Zm9udFdlaWdodDogJ2JvbGQnfSkpOwogICAgbGkuYXBwZW5kKHNwYW4oCiAgICAgICAgYCgke2ZpbGUudHlwZSB8fCAnbi9hJ30pIC0gJHtmaWxlLnNpemV9IGJ5dGVzLCBgICsKICAgICAgICBgbGFzdCBtb2RpZmllZDogJHsKICAgICAgICAgICAgZmlsZS5sYXN0TW9kaWZpZWREYXRlID8gZmlsZS5sYXN0TW9kaWZpZWREYXRlLnRvTG9jYWxlRGF0ZVN0cmluZygpIDoKICAgICAgICAgICAgICAgICAgICAgICAgICAgICAgICAgICAgJ24vYSd9IC0gYCkpOwogICAgY29uc3QgcGVyY2VudCA9IHNwYW4oJzAlIGRvbmUnKTsKICAgIGxpLmFwcGVuZENoaWxkKHBlcmNlbnQpOwoKICAgIG91dHB1dEVsZW1lbnQuYXBwZW5kQ2hpbGQobGkpOwoKICAgIGNvbnN0IGZpbGVEYXRhUHJvbWlzZSA9IG5ldyBQcm9taXNlKChyZXNvbHZlKSA9PiB7CiAgICAgIGNvbnN0IHJlYWRlciA9IG5ldyBGaWxlUmVhZGVyKCk7CiAgICAgIHJlYWRlci5vbmxvYWQgPSAoZSkgPT4gewogICAgICAgIHJlc29sdmUoZS50YXJnZXQucmVzdWx0KTsKICAgICAgfTsKICAgICAgcmVhZGVyLnJlYWRBc0FycmF5QnVmZmVyKGZpbGUpOwogICAgfSk7CiAgICAvLyBXYWl0IGZvciB0aGUgZGF0YSB0byBiZSByZWFkeS4KICAgIGxldCBmaWxlRGF0YSA9IHlpZWxkIHsKICAgICAgcHJvbWlzZTogZmlsZURhdGFQcm9taXNlLAogICAgICByZXNwb25zZTogewogICAgICAgIGFjdGlvbjogJ2NvbnRpbnVlJywKICAgICAgfQogICAgfTsKCiAgICAvLyBVc2UgYSBjaHVua2VkIHNlbmRpbmcgdG8gYXZvaWQgbWVzc2FnZSBzaXplIGxpbWl0cy4gU2VlIGIvNjIxMTU2NjAuCiAgICBsZXQgcG9zaXRpb24gPSAwOwogICAgd2hpbGUgKHBvc2l0aW9uIDwgZmlsZURhdGEuYnl0ZUxlbmd0aCkgewogICAgICBjb25zdCBsZW5ndGggPSBNYXRoLm1pbihmaWxlRGF0YS5ieXRlTGVuZ3RoIC0gcG9zaXRpb24sIE1BWF9QQVlMT0FEX1NJWkUpOwogICAgICBjb25zdCBjaHVuayA9IG5ldyBVaW50OEFycmF5KGZpbGVEYXRhLCBwb3NpdGlvbiwgbGVuZ3RoKTsKICAgICAgcG9zaXRpb24gKz0gbGVuZ3RoOwoKICAgICAgY29uc3QgYmFzZTY0ID0gYnRvYShTdHJpbmcuZnJvbUNoYXJDb2RlLmFwcGx5KG51bGwsIGNodW5rKSk7CiAgICAgIHlpZWxkIHsKICAgICAgICByZXNwb25zZTogewogICAgICAgICAgYWN0aW9uOiAnYXBwZW5kJywKICAgICAgICAgIGZpbGU6IGZpbGUubmFtZSwKICAgICAgICAgIGRhdGE6IGJhc2U2NCwKICAgICAgICB9LAogICAgICB9OwogICAgICBwZXJjZW50LnRleHRDb250ZW50ID0KICAgICAgICAgIGAke01hdGgucm91bmQoKHBvc2l0aW9uIC8gZmlsZURhdGEuYnl0ZUxlbmd0aCkgKiAxMDApfSUgZG9uZWA7CiAgICB9CiAgfQoKICAvLyBBbGwgZG9uZS4KICB5aWVsZCB7CiAgICByZXNwb25zZTogewogICAgICBhY3Rpb246ICdjb21wbGV0ZScsCiAgICB9CiAgfTsKfQoKc2NvcGUuZ29vZ2xlID0gc2NvcGUuZ29vZ2xlIHx8IHt9OwpzY29wZS5nb29nbGUuY29sYWIgPSBzY29wZS5nb29nbGUuY29sYWIgfHwge307CnNjb3BlLmdvb2dsZS5jb2xhYi5fZmlsZXMgPSB7CiAgX3VwbG9hZEZpbGVzLAogIF91cGxvYWRGaWxlc0NvbnRpbnVlLAp9Owp9KShzZWxmKTsK",
              "ok": true,
              "headers": [
                [
                  "content-type",
                  "application/javascript"
                ]
              ],
              "status": 200,
              "status_text": ""
            }
          },
          "base_uri": "https://localhost:8080/",
          "height": 72
        },
        "outputId": "3cfc38a4-ee7f-4385-b7c7-9588b0ab917f"
      },
      "source": [
        "#upload kaggle.json api file\n",
        "from google.colab import files\n",
        "uploaded = files.upload()"
      ],
      "execution_count": 5,
      "outputs": [
        {
          "output_type": "display_data",
          "data": {
            "text/html": [
              "\n",
              "     <input type=\"file\" id=\"files-99b24f34-c1ea-448f-89c7-372010b6b732\" name=\"files[]\" multiple disabled\n",
              "        style=\"border:none\" />\n",
              "     <output id=\"result-99b24f34-c1ea-448f-89c7-372010b6b732\">\n",
              "      Upload widget is only available when the cell has been executed in the\n",
              "      current browser session. Please rerun this cell to enable.\n",
              "      </output>\n",
              "      <script src=\"/nbextensions/google.colab/files.js\"></script> "
            ],
            "text/plain": [
              "<IPython.core.display.HTML object>"
            ]
          },
          "metadata": {
            "tags": []
          }
        },
        {
          "output_type": "stream",
          "text": [
            "Saving kaggle.json to kaggle.json\n"
          ],
          "name": "stdout"
        }
      ]
    },
    {
      "cell_type": "code",
      "metadata": {
        "id": "rDpIBePndb4j",
        "colab_type": "code",
        "colab": {
          "base_uri": "https://localhost:8080/",
          "height": 68
        },
        "outputId": "974541f8-fd52-476d-ee2d-cf2323dcb188"
      },
      "source": [
        "!mkdir /root/.kaggle\n",
        "!mv /content/kaggle.json /root/.kaggle\n",
        "!chmod 600 /root/.kaggle/kaggle.json\n",
        "!kaggle datasets download -d paultimothymooney/blood-cells"
      ],
      "execution_count": 6,
      "outputs": [
        {
          "output_type": "stream",
          "text": [
            "Downloading blood-cells.zip to /content\n",
            " 97% 105M/108M [00:02<00:00, 39.5MB/s] \n",
            "100% 108M/108M [00:02<00:00, 47.8MB/s]\n"
          ],
          "name": "stdout"
        }
      ]
    },
    {
      "cell_type": "code",
      "metadata": {
        "id": "tyxyGEtGdgCI",
        "colab_type": "code",
        "colab": {}
      },
      "source": [
        "zip_ref = zipfile.ZipFile('blood-cells.zip', 'r')\n",
        "zip_ref.extractall()\n",
        "zip_ref.close()"
      ],
      "execution_count": 7,
      "outputs": []
    },
    {
      "cell_type": "code",
      "metadata": {
        "id": "HPDcohbLdoCY",
        "colab_type": "code",
        "colab": {}
      },
      "source": [
        "train_datagen = ImageDataGenerator(\n",
        "        rescale = 1./255.,\n",
        "        #validation_split=0.2\n",
        "    )\n",
        "\n",
        "validation_datagen = ImageDataGenerator(\n",
        "    rescale = 1.0/255.)"
      ],
      "execution_count": 8,
      "outputs": []
    },
    {
      "cell_type": "code",
      "metadata": {
        "id": "zAx_yphrd2C_",
        "colab_type": "code",
        "colab": {}
      },
      "source": [
        "base_dir = '/content/dataset2-master/dataset2-master/images'\n",
        "\n",
        "train_dir = os.path.join(base_dir, 'TRAIN')\n",
        "validation_dir = os.path.join(base_dir, 'TEST')\n",
        "\n",
        "# Directory with our training cat/dog pictures\n",
        "train_eo_dir = os.path.join(train_dir, 'EOSINOPHIL')\n",
        "train_lympho_dir = os.path.join(train_dir, 'LYMPHOCYTE')\n",
        "train_mono_dir = os.path.join(train_dir, 'MONOCYTE')\n",
        "train_neutro_dir = os.path.join(train_dir, 'NEUTROPHIL')\n",
        "\n",
        "# Directory with our validation cat/dog pictures\n",
        "test_eo_dir = os.path.join(validation_dir, 'EOSINOPHIL')\n",
        "test_lympho_dir = os.path.join(validation_dir, 'LYMPHOCYTE')\n",
        "test_mono_dir = os.path.join(validation_dir, 'MONOCYTE')\n",
        "test_neutro_dir = os.path.join(validation_dir, 'NEUTROPHIL')\n"
      ],
      "execution_count": 9,
      "outputs": []
    },
    {
      "cell_type": "code",
      "metadata": {
        "id": "a2Gqe3tNeiuS",
        "colab_type": "code",
        "colab": {
          "base_uri": "https://localhost:8080/",
          "height": 68
        },
        "outputId": "07c14ed9-ff49-49c6-ff1d-a75e06a57cb4"
      },
      "source": [
        "train_generator = train_datagen.flow_from_directory(train_dir,\n",
        "                                                    batch_size=64,\n",
        "                                                    class_mode='categorical',\n",
        "                                                    target_size=(150, 150),\n",
        "                                                    #subset=\"training\"\n",
        "                                                    ) \n",
        "val_generator = train_datagen.flow_from_directory(train_dir,\n",
        "                                                    batch_size=64,\n",
        "                                                    class_mode='categorical',\n",
        "                                                    target_size=(150, 150),\n",
        "                                                    subset=\"validation\")   \n",
        "validation_generator =  validation_datagen.flow_from_directory(validation_dir,\n",
        "                                                         batch_size=64,\n",
        "                                                         class_mode  = 'categorical',\n",
        "                                                         target_size = (150, 150))"
      ],
      "execution_count": 10,
      "outputs": [
        {
          "output_type": "stream",
          "text": [
            "Found 9957 images belonging to 4 classes.\n",
            "Found 0 images belonging to 4 classes.\n",
            "Found 2487 images belonging to 4 classes.\n"
          ],
          "name": "stdout"
        }
      ]
    },
    {
      "cell_type": "code",
      "metadata": {
        "id": "_Yz2gTgp1qkL",
        "colab_type": "code",
        "colab": {}
      },
      "source": [
        "tf.random.set_seed(\n",
        "    42\n",
        ")"
      ],
      "execution_count": 11,
      "outputs": []
    },
    {
      "cell_type": "code",
      "metadata": {
        "id": "xVfeJj32e3KS",
        "colab_type": "code",
        "colab": {}
      },
      "source": [
        "model = tf.keras.models.Sequential([\n",
        "    tf.keras.layers.Conv2D(16, (3,3), activation='relu', input_shape=(150, 150, 3)),\n",
        "    tf.keras.layers.MaxPooling2D(2,2),\n",
        "    tf.keras.layers.Conv2D(32, (3,3), activation='relu'),\n",
        "    tf.keras.layers.MaxPooling2D(2,2),\n",
        "    tf.keras.layers.Conv2D(64, (3,3), activation='relu'),\n",
        "    tf.keras.layers.MaxPooling2D(2,2),\n",
        "    tf.keras.layers.Flatten(), \n",
        "    tf.keras.layers.Dense(64, activation='relu', kernel_regularizer=\"l2\"),\n",
        "    #tf.keras.layers.BatchNormalization(),\n",
        "    tf.keras.layers.Dropout(0.3),\n",
        "    tf.keras.layers.Dense(4, activation='softmax') \n",
        "])\n",
        "\n",
        "# Compile Model. \n",
        "from tensorflow.keras.optimizers import RMSprop\n",
        "model.compile(optimizer=RMSprop(learning_rate = 0.001), loss='categorical_crossentropy', metrics=['accuracy'])"
      ],
      "execution_count": 12,
      "outputs": []
    },
    {
      "cell_type": "code",
      "metadata": {
        "id": "I-RFRN2Sfu48",
        "colab_type": "code",
        "colab": {
          "base_uri": "https://localhost:8080/",
          "height": 493
        },
        "outputId": "4477cc1c-e3fb-45ce-c4ea-8b9446ff9f67"
      },
      "source": [
        "model.summary()"
      ],
      "execution_count": 13,
      "outputs": [
        {
          "output_type": "stream",
          "text": [
            "Model: \"sequential\"\n",
            "_________________________________________________________________\n",
            "Layer (type)                 Output Shape              Param #   \n",
            "=================================================================\n",
            "conv2d (Conv2D)              (None, 148, 148, 16)      448       \n",
            "_________________________________________________________________\n",
            "max_pooling2d (MaxPooling2D) (None, 74, 74, 16)        0         \n",
            "_________________________________________________________________\n",
            "conv2d_1 (Conv2D)            (None, 72, 72, 32)        4640      \n",
            "_________________________________________________________________\n",
            "max_pooling2d_1 (MaxPooling2 (None, 36, 36, 32)        0         \n",
            "_________________________________________________________________\n",
            "conv2d_2 (Conv2D)            (None, 34, 34, 64)        18496     \n",
            "_________________________________________________________________\n",
            "max_pooling2d_2 (MaxPooling2 (None, 17, 17, 64)        0         \n",
            "_________________________________________________________________\n",
            "flatten (Flatten)            (None, 18496)             0         \n",
            "_________________________________________________________________\n",
            "dense (Dense)                (None, 64)                1183808   \n",
            "_________________________________________________________________\n",
            "dropout (Dropout)            (None, 64)                0         \n",
            "_________________________________________________________________\n",
            "dense_1 (Dense)              (None, 4)                 260       \n",
            "=================================================================\n",
            "Total params: 1,207,652\n",
            "Trainable params: 1,207,652\n",
            "Non-trainable params: 0\n",
            "_________________________________________________________________\n"
          ],
          "name": "stdout"
        }
      ]
    },
    {
      "cell_type": "code",
      "metadata": {
        "id": "uLnQlKQ8fwjS",
        "colab_type": "code",
        "colab": {
          "base_uri": "https://localhost:8080/",
          "height": 1000
        },
        "outputId": "569b78f9-21a4-4355-b3e6-903598eadc8f"
      },
      "source": [
        "history = {}\n",
        "# Train the Model\n",
        "history[\"first_cnn\"] = model.fit(train_generator,\n",
        "                              epochs=50,\n",
        "                              verbose=1,\n",
        "                              validation_data=validation_generator,\n",
        "                              )"
      ],
      "execution_count": 14,
      "outputs": [
        {
          "output_type": "stream",
          "text": [
            "Epoch 1/50\n",
            "156/156 [==============================] - 20s 130ms/step - loss: 1.5391 - accuracy: 0.2466 - val_loss: 1.3917 - val_accuracy: 0.2569\n",
            "Epoch 2/50\n",
            "156/156 [==============================] - 20s 127ms/step - loss: 1.3905 - accuracy: 0.2733 - val_loss: 1.3134 - val_accuracy: 0.3687\n",
            "Epoch 3/50\n",
            "156/156 [==============================] - 20s 128ms/step - loss: 1.3311 - accuracy: 0.3919 - val_loss: 1.2200 - val_accuracy: 0.5159\n",
            "Epoch 4/50\n",
            "156/156 [==============================] - 20s 126ms/step - loss: 1.2277 - accuracy: 0.4791 - val_loss: 1.1744 - val_accuracy: 0.5235\n",
            "Epoch 5/50\n",
            "156/156 [==============================] - 20s 126ms/step - loss: 1.1410 - accuracy: 0.5257 - val_loss: 0.9773 - val_accuracy: 0.6385\n",
            "Epoch 6/50\n",
            "156/156 [==============================] - 19s 124ms/step - loss: 1.0658 - accuracy: 0.5744 - val_loss: 0.9157 - val_accuracy: 0.6478\n",
            "Epoch 7/50\n",
            "156/156 [==============================] - 19s 124ms/step - loss: 0.9998 - accuracy: 0.6118 - val_loss: 0.8432 - val_accuracy: 0.6144\n",
            "Epoch 8/50\n",
            "156/156 [==============================] - 19s 123ms/step - loss: 0.9613 - accuracy: 0.6281 - val_loss: 0.8470 - val_accuracy: 0.6397\n",
            "Epoch 9/50\n",
            "156/156 [==============================] - 19s 125ms/step - loss: 0.8882 - accuracy: 0.6605 - val_loss: 0.7843 - val_accuracy: 0.6828\n",
            "Epoch 10/50\n",
            "156/156 [==============================] - 19s 123ms/step - loss: 0.8381 - accuracy: 0.6760 - val_loss: 0.8403 - val_accuracy: 0.6751\n",
            "Epoch 11/50\n",
            "156/156 [==============================] - 19s 123ms/step - loss: 0.8339 - accuracy: 0.6888 - val_loss: 0.8018 - val_accuracy: 0.6791\n",
            "Epoch 12/50\n",
            "156/156 [==============================] - 19s 123ms/step - loss: 0.7878 - accuracy: 0.7045 - val_loss: 0.7299 - val_accuracy: 0.6719\n",
            "Epoch 13/50\n",
            "156/156 [==============================] - 19s 124ms/step - loss: 0.7676 - accuracy: 0.7125 - val_loss: 0.7705 - val_accuracy: 0.6904\n",
            "Epoch 14/50\n",
            "156/156 [==============================] - 19s 124ms/step - loss: 0.7426 - accuracy: 0.7264 - val_loss: 0.7404 - val_accuracy: 0.7085\n",
            "Epoch 15/50\n",
            "156/156 [==============================] - 19s 124ms/step - loss: 0.6901 - accuracy: 0.7512 - val_loss: 0.8654 - val_accuracy: 0.6586\n",
            "Epoch 16/50\n",
            "156/156 [==============================] - 19s 124ms/step - loss: 0.6618 - accuracy: 0.7715 - val_loss: 0.6634 - val_accuracy: 0.7467\n",
            "Epoch 17/50\n",
            "156/156 [==============================] - 19s 124ms/step - loss: 0.6491 - accuracy: 0.7748 - val_loss: 0.5905 - val_accuracy: 0.8002\n",
            "Epoch 18/50\n",
            "156/156 [==============================] - 20s 126ms/step - loss: 0.6446 - accuracy: 0.7878 - val_loss: 0.6045 - val_accuracy: 0.8114\n",
            "Epoch 19/50\n",
            "156/156 [==============================] - 19s 124ms/step - loss: 0.6087 - accuracy: 0.7962 - val_loss: 0.7017 - val_accuracy: 0.7684\n",
            "Epoch 20/50\n",
            "156/156 [==============================] - 19s 124ms/step - loss: 0.6122 - accuracy: 0.8077 - val_loss: 0.5246 - val_accuracy: 0.8424\n",
            "Epoch 21/50\n",
            "156/156 [==============================] - 19s 124ms/step - loss: 0.5750 - accuracy: 0.8148 - val_loss: 0.5490 - val_accuracy: 0.8158\n",
            "Epoch 22/50\n",
            "156/156 [==============================] - 19s 124ms/step - loss: 0.5491 - accuracy: 0.8232 - val_loss: 0.8899 - val_accuracy: 0.7539\n",
            "Epoch 23/50\n",
            "156/156 [==============================] - 19s 121ms/step - loss: 0.5611 - accuracy: 0.8255 - val_loss: 0.6076 - val_accuracy: 0.7873\n",
            "Epoch 24/50\n",
            "156/156 [==============================] - 19s 122ms/step - loss: 0.5182 - accuracy: 0.8361 - val_loss: 0.6110 - val_accuracy: 0.8042\n",
            "Epoch 25/50\n",
            "156/156 [==============================] - 19s 121ms/step - loss: 0.4969 - accuracy: 0.8414 - val_loss: 1.0165 - val_accuracy: 0.7093\n",
            "Epoch 26/50\n",
            "156/156 [==============================] - 19s 121ms/step - loss: 0.5014 - accuracy: 0.8476 - val_loss: 0.8200 - val_accuracy: 0.7105\n",
            "Epoch 27/50\n",
            "156/156 [==============================] - 19s 122ms/step - loss: 0.4679 - accuracy: 0.8566 - val_loss: 0.7896 - val_accuracy: 0.7242\n",
            "Epoch 28/50\n",
            "156/156 [==============================] - 19s 123ms/step - loss: 0.4738 - accuracy: 0.8536 - val_loss: 0.8667 - val_accuracy: 0.7246\n",
            "Epoch 29/50\n",
            "156/156 [==============================] - 19s 122ms/step - loss: 0.4590 - accuracy: 0.8590 - val_loss: 0.5173 - val_accuracy: 0.8106\n",
            "Epoch 30/50\n",
            "156/156 [==============================] - 19s 122ms/step - loss: 0.4624 - accuracy: 0.8642 - val_loss: 0.5260 - val_accuracy: 0.8343\n",
            "Epoch 31/50\n",
            "156/156 [==============================] - 19s 122ms/step - loss: 0.4445 - accuracy: 0.8663 - val_loss: 0.4934 - val_accuracy: 0.8420\n",
            "Epoch 32/50\n",
            "156/156 [==============================] - 19s 122ms/step - loss: 0.4280 - accuracy: 0.8760 - val_loss: 0.5716 - val_accuracy: 0.8359\n",
            "Epoch 33/50\n",
            "156/156 [==============================] - 19s 122ms/step - loss: 0.4216 - accuracy: 0.8729 - val_loss: 0.5098 - val_accuracy: 0.8327\n",
            "Epoch 34/50\n",
            "156/156 [==============================] - 19s 123ms/step - loss: 0.4226 - accuracy: 0.8767 - val_loss: 0.5267 - val_accuracy: 0.8376\n",
            "Epoch 35/50\n",
            "156/156 [==============================] - 19s 122ms/step - loss: 0.3986 - accuracy: 0.8845 - val_loss: 0.5277 - val_accuracy: 0.8500\n",
            "Epoch 36/50\n",
            "156/156 [==============================] - 19s 121ms/step - loss: 0.3968 - accuracy: 0.8852 - val_loss: 0.4599 - val_accuracy: 0.8637\n",
            "Epoch 37/50\n",
            "156/156 [==============================] - 19s 122ms/step - loss: 0.4129 - accuracy: 0.8829 - val_loss: 0.5015 - val_accuracy: 0.8347\n",
            "Epoch 38/50\n",
            "156/156 [==============================] - 19s 122ms/step - loss: 0.3952 - accuracy: 0.8844 - val_loss: 0.4672 - val_accuracy: 0.8392\n",
            "Epoch 39/50\n",
            "156/156 [==============================] - 19s 122ms/step - loss: 0.3869 - accuracy: 0.8905 - val_loss: 0.5095 - val_accuracy: 0.8468\n",
            "Epoch 40/50\n",
            "156/156 [==============================] - 19s 121ms/step - loss: 0.3886 - accuracy: 0.8923 - val_loss: 0.4870 - val_accuracy: 0.8504\n",
            "Epoch 41/50\n",
            "156/156 [==============================] - 19s 121ms/step - loss: 0.3681 - accuracy: 0.8908 - val_loss: 0.7559 - val_accuracy: 0.7905\n",
            "Epoch 42/50\n",
            "156/156 [==============================] - 19s 121ms/step - loss: 0.3605 - accuracy: 0.8979 - val_loss: 0.5895 - val_accuracy: 0.8432\n",
            "Epoch 43/50\n",
            "156/156 [==============================] - 19s 122ms/step - loss: 0.3507 - accuracy: 0.9047 - val_loss: 0.4623 - val_accuracy: 0.8540\n",
            "Epoch 44/50\n",
            "156/156 [==============================] - 19s 122ms/step - loss: 0.3532 - accuracy: 0.9019 - val_loss: 0.6066 - val_accuracy: 0.7841\n",
            "Epoch 45/50\n",
            "156/156 [==============================] - 19s 121ms/step - loss: 0.3452 - accuracy: 0.9075 - val_loss: 0.5017 - val_accuracy: 0.8476\n",
            "Epoch 46/50\n",
            "156/156 [==============================] - 19s 121ms/step - loss: 0.3326 - accuracy: 0.9062 - val_loss: 0.5143 - val_accuracy: 0.8464\n",
            "Epoch 47/50\n",
            "156/156 [==============================] - 19s 122ms/step - loss: 0.3444 - accuracy: 0.9056 - val_loss: 0.5030 - val_accuracy: 0.8552\n",
            "Epoch 48/50\n",
            "156/156 [==============================] - 19s 121ms/step - loss: 0.3278 - accuracy: 0.9116 - val_loss: 0.7502 - val_accuracy: 0.8062\n",
            "Epoch 49/50\n",
            "156/156 [==============================] - 19s 121ms/step - loss: 0.3172 - accuracy: 0.9162 - val_loss: 0.5352 - val_accuracy: 0.8536\n",
            "Epoch 50/50\n",
            "156/156 [==============================] - 19s 121ms/step - loss: 0.3197 - accuracy: 0.9141 - val_loss: 0.5707 - val_accuracy: 0.8524\n"
          ],
          "name": "stdout"
        }
      ]
    },
    {
      "cell_type": "code",
      "metadata": {
        "id": "6dBcl56UFFrr",
        "colab_type": "code",
        "colab": {}
      },
      "source": [
        "def history_plotter(history_dict):\n",
        "  import matplotlib.pyplot as plt\n",
        "  from matplotlib.pyplot import cm\n",
        "  color=iter(cm.Set1(np.linspace(0,1,len(history_dict))))\n",
        "  fig, (ax1,ax2) = plt.subplots(1,2, figsize=(16,8))\n",
        "\n",
        "  for name, history in history_dict.items():\n",
        "    c=next(color)\n",
        "    acc = history.history['accuracy']\n",
        "    val_acc = history.history['val_accuracy']\n",
        "    loss = history.history['loss']\n",
        "    val_loss = history.history['val_loss']\n",
        "\n",
        "    epochs = range(len(acc))\n",
        "\n",
        "    ax1.plot(epochs, acc, '-',c=c ,label=name +' Training accuracy')\n",
        "    ax1.plot(epochs, val_acc,'--', c=c, label=name +' Validation accuracy')\n",
        "  \n",
        "    ax2.plot(epochs, loss, '-',c=c, label=name + ' Training Loss')\n",
        "    ax2.plot(epochs, val_loss, '--',c=c, label=name + ' Validation Loss')\n",
        "    \n",
        "  \n",
        "  ax1.set_title('Training and validation accuracy')\n",
        "  ax1.legend()\n",
        "\n",
        "  ax2.set_title('Training and validation loss')\n",
        "  ax2.legend()\n",
        "\n",
        "  "
      ],
      "execution_count": 15,
      "outputs": []
    },
    {
      "cell_type": "code",
      "metadata": {
        "id": "NXfYXu1fBlpD",
        "colab_type": "code",
        "colab": {
          "base_uri": "https://localhost:8080/",
          "height": 499
        },
        "outputId": "a06bbd45-ca84-4170-ca0b-bac00dccace6"
      },
      "source": [
        "history_plotter(history)"
      ],
      "execution_count": 16,
      "outputs": [
        {
          "output_type": "display_data",
          "data": {
            "image/png": "[encoded data removed]",
            "text/plain": [
              "<Figure size 1152x576 with 2 Axes>"
            ]
          },
          "metadata": {
            "tags": [],
            "needs_background": "light"
          }
        }
      ]
    },
    {
      "cell_type": "code",
      "metadata": {
        "id": "kpMF1YwkgcDp",
        "colab_type": "code",
        "colab": {}
      },
      "source": [
        "model2 = tf.keras.models.Sequential([\n",
        "    tf.keras.layers.Conv2D(32, (3,3), activation='relu', input_shape=(150, 150, 3)),\n",
        "    tf.keras.layers.MaxPooling2D(2,2),\n",
        "    tf.keras.layers.Conv2D(64, (3,3), activation='relu'),\n",
        "    tf.keras.layers.MaxPooling2D(2,2),\n",
        "    tf.keras.layers.Conv2D(128, (3,3), activation='relu'),\n",
        "    tf.keras.layers.MaxPooling2D(2,2),\n",
        "    tf.keras.layers.Flatten(), \n",
        "    tf.keras.layers.Dense(64, activation='relu', kernel_regularizer=\"l2\"),\n",
        "    #tf.keras.layers.BatchNormalization(),\n",
        "    tf.keras.layers.Dropout(0.5),\n",
        "    tf.keras.layers.Dense(4, activation='softmax') \n",
        "])\n",
        "\n",
        "# Compile Model. \n",
        "from tensorflow.keras.optimizers import RMSprop\n",
        "model2.compile(optimizer=RMSprop(learning_rate = 0.001), loss='categorical_crossentropy', metrics=['accuracy'])"
      ],
      "execution_count": 19,
      "outputs": []
    },
    {
      "cell_type": "code",
      "metadata": {
        "id": "LWFdI0wiASpN",
        "colab_type": "code",
        "colab": {
          "base_uri": "https://localhost:8080/",
          "height": 1000
        },
        "outputId": "55256e0f-f659-424e-d772-5312f29fda6b"
      },
      "source": [
        "# Train the Model\n",
        "history[\"second_cnn\"] = model2.fit(train_generator,\n",
        "                              epochs=50,\n",
        "                              verbose=1,\n",
        "                              validation_data=validation_generator,\n",
        "                              )"
      ],
      "execution_count": 20,
      "outputs": [
        {
          "output_type": "stream",
          "text": [
            "Epoch 1/50\n",
            "156/156 [==============================] - 20s 127ms/step - loss: 1.4403 - accuracy: 0.2538 - val_loss: 1.3945 - val_accuracy: 0.2686\n",
            "Epoch 2/50\n",
            "156/156 [==============================] - 20s 125ms/step - loss: 1.3927 - accuracy: 0.2965 - val_loss: 1.3724 - val_accuracy: 0.3193\n",
            "Epoch 3/50\n",
            "156/156 [==============================] - 20s 125ms/step - loss: 1.3920 - accuracy: 0.3195 - val_loss: 1.3911 - val_accuracy: 0.2963\n",
            "Epoch 4/50\n",
            "156/156 [==============================] - 20s 126ms/step - loss: 1.3493 - accuracy: 0.3722 - val_loss: 1.3308 - val_accuracy: 0.4479\n",
            "Epoch 5/50\n",
            "156/156 [==============================] - 20s 125ms/step - loss: 1.3007 - accuracy: 0.4254 - val_loss: 1.2126 - val_accuracy: 0.4664\n",
            "Epoch 6/50\n",
            "156/156 [==============================] - 19s 125ms/step - loss: 1.2078 - accuracy: 0.5022 - val_loss: 1.0667 - val_accuracy: 0.6084\n",
            "Epoch 7/50\n",
            "156/156 [==============================] - 20s 125ms/step - loss: 1.1069 - accuracy: 0.5723 - val_loss: 1.0337 - val_accuracy: 0.6212\n",
            "Epoch 8/50\n",
            "156/156 [==============================] - 20s 126ms/step - loss: 1.0201 - accuracy: 0.6085 - val_loss: 0.8713 - val_accuracy: 0.6244\n",
            "Epoch 9/50\n",
            "156/156 [==============================] - 19s 125ms/step - loss: 0.9649 - accuracy: 0.6377 - val_loss: 0.8388 - val_accuracy: 0.6707\n",
            "Epoch 10/50\n",
            "156/156 [==============================] - 19s 124ms/step - loss: 0.9352 - accuracy: 0.6535 - val_loss: 0.8206 - val_accuracy: 0.6836\n",
            "Epoch 11/50\n",
            "156/156 [==============================] - 20s 126ms/step - loss: 0.8747 - accuracy: 0.6686 - val_loss: 0.8578 - val_accuracy: 0.6916\n",
            "Epoch 12/50\n",
            "156/156 [==============================] - 20s 126ms/step - loss: 0.8576 - accuracy: 0.6846 - val_loss: 0.7646 - val_accuracy: 0.6719\n",
            "Epoch 13/50\n",
            "156/156 [==============================] - 19s 125ms/step - loss: 0.8144 - accuracy: 0.6831 - val_loss: 0.8094 - val_accuracy: 0.6940\n",
            "Epoch 14/50\n",
            "156/156 [==============================] - 19s 124ms/step - loss: 0.7951 - accuracy: 0.7056 - val_loss: 0.7163 - val_accuracy: 0.7394\n",
            "Epoch 15/50\n",
            "156/156 [==============================] - 19s 124ms/step - loss: 0.7824 - accuracy: 0.7092 - val_loss: 0.7575 - val_accuracy: 0.7230\n",
            "Epoch 16/50\n",
            "156/156 [==============================] - 19s 125ms/step - loss: 0.7446 - accuracy: 0.7246 - val_loss: 0.6880 - val_accuracy: 0.7608\n",
            "Epoch 17/50\n",
            "156/156 [==============================] - 19s 124ms/step - loss: 0.7023 - accuracy: 0.7498 - val_loss: 0.9688 - val_accuracy: 0.6482\n",
            "Epoch 18/50\n",
            "156/156 [==============================] - 19s 124ms/step - loss: 0.6873 - accuracy: 0.7584 - val_loss: 0.6754 - val_accuracy: 0.7982\n",
            "Epoch 19/50\n",
            "156/156 [==============================] - 19s 125ms/step - loss: 0.6466 - accuracy: 0.7724 - val_loss: 0.6934 - val_accuracy: 0.8239\n",
            "Epoch 20/50\n",
            "156/156 [==============================] - 19s 125ms/step - loss: 0.6584 - accuracy: 0.7627 - val_loss: 0.8611 - val_accuracy: 0.6787\n",
            "Epoch 21/50\n",
            "156/156 [==============================] - 20s 125ms/step - loss: 0.6831 - accuracy: 0.7875 - val_loss: 0.6717 - val_accuracy: 0.8138\n",
            "Epoch 22/50\n",
            "156/156 [==============================] - 19s 125ms/step - loss: 0.6226 - accuracy: 0.7906 - val_loss: 0.7422 - val_accuracy: 0.7346\n",
            "Epoch 23/50\n",
            "156/156 [==============================] - 19s 125ms/step - loss: 0.5871 - accuracy: 0.8019 - val_loss: 0.6581 - val_accuracy: 0.8359\n",
            "Epoch 24/50\n",
            "156/156 [==============================] - 20s 126ms/step - loss: 0.6105 - accuracy: 0.8064 - val_loss: 0.5737 - val_accuracy: 0.8384\n",
            "Epoch 25/50\n",
            "156/156 [==============================] - 20s 125ms/step - loss: 0.5767 - accuracy: 0.8201 - val_loss: 0.6630 - val_accuracy: 0.8158\n",
            "Epoch 26/50\n",
            "156/156 [==============================] - 19s 125ms/step - loss: 0.5605 - accuracy: 0.8172 - val_loss: 1.3272 - val_accuracy: 0.6313\n",
            "Epoch 27/50\n",
            "156/156 [==============================] - 20s 127ms/step - loss: 0.5275 - accuracy: 0.8293 - val_loss: 0.6250 - val_accuracy: 0.8524\n",
            "Epoch 28/50\n",
            "156/156 [==============================] - 20s 129ms/step - loss: 0.5582 - accuracy: 0.8369 - val_loss: 2.3151 - val_accuracy: 0.6132\n",
            "Epoch 29/50\n",
            "156/156 [==============================] - 20s 130ms/step - loss: 0.5704 - accuracy: 0.8298 - val_loss: 0.6780 - val_accuracy: 0.8022\n",
            "Epoch 30/50\n",
            "156/156 [==============================] - 20s 126ms/step - loss: 0.4943 - accuracy: 0.8475 - val_loss: 0.6367 - val_accuracy: 0.8046\n",
            "Epoch 31/50\n",
            "156/156 [==============================] - 20s 125ms/step - loss: 0.4948 - accuracy: 0.8555 - val_loss: 0.5634 - val_accuracy: 0.8311\n",
            "Epoch 32/50\n",
            "156/156 [==============================] - 20s 126ms/step - loss: 0.4976 - accuracy: 0.8614 - val_loss: 0.5814 - val_accuracy: 0.8130\n",
            "Epoch 33/50\n",
            "156/156 [==============================] - 20s 125ms/step - loss: 0.4464 - accuracy: 0.8684 - val_loss: 0.6036 - val_accuracy: 0.8303\n",
            "Epoch 34/50\n",
            "156/156 [==============================] - 20s 126ms/step - loss: 0.4592 - accuracy: 0.8723 - val_loss: 0.6366 - val_accuracy: 0.8544\n",
            "Epoch 35/50\n",
            "156/156 [==============================] - 20s 128ms/step - loss: 0.4857 - accuracy: 0.8643 - val_loss: 0.7335 - val_accuracy: 0.7197\n",
            "Epoch 36/50\n",
            "156/156 [==============================] - 20s 128ms/step - loss: 0.4209 - accuracy: 0.8762 - val_loss: 0.6221 - val_accuracy: 0.7917\n",
            "Epoch 37/50\n",
            "156/156 [==============================] - 20s 128ms/step - loss: 0.4613 - accuracy: 0.8714 - val_loss: 0.5134 - val_accuracy: 0.8440\n",
            "Epoch 38/50\n",
            "156/156 [==============================] - 20s 127ms/step - loss: 0.4017 - accuracy: 0.8881 - val_loss: 0.6403 - val_accuracy: 0.8480\n",
            "Epoch 39/50\n",
            "156/156 [==============================] - 20s 127ms/step - loss: 0.4003 - accuracy: 0.8881 - val_loss: 0.4963 - val_accuracy: 0.8496\n",
            "Epoch 40/50\n",
            "156/156 [==============================] - 20s 128ms/step - loss: 0.4072 - accuracy: 0.8905 - val_loss: 0.5365 - val_accuracy: 0.8561\n",
            "Epoch 41/50\n",
            "156/156 [==============================] - 20s 128ms/step - loss: 0.4286 - accuracy: 0.8889 - val_loss: 0.4875 - val_accuracy: 0.8460\n",
            "Epoch 42/50\n",
            "156/156 [==============================] - 20s 129ms/step - loss: 0.3813 - accuracy: 0.8947 - val_loss: 0.5742 - val_accuracy: 0.8327\n",
            "Epoch 43/50\n",
            "156/156 [==============================] - 20s 128ms/step - loss: 0.3810 - accuracy: 0.8956 - val_loss: 0.5450 - val_accuracy: 0.8661\n",
            "Epoch 44/50\n",
            "156/156 [==============================] - 20s 128ms/step - loss: 0.4027 - accuracy: 0.8906 - val_loss: 0.6001 - val_accuracy: 0.8520\n",
            "Epoch 45/50\n",
            "156/156 [==============================] - 20s 127ms/step - loss: 0.3635 - accuracy: 0.9043 - val_loss: 0.5798 - val_accuracy: 0.8488\n",
            "Epoch 46/50\n",
            "156/156 [==============================] - 20s 127ms/step - loss: 0.3676 - accuracy: 0.8999 - val_loss: 0.4660 - val_accuracy: 0.8460\n",
            "Epoch 47/50\n",
            "156/156 [==============================] - 20s 126ms/step - loss: 0.4013 - accuracy: 0.9020 - val_loss: 0.4668 - val_accuracy: 0.8412\n",
            "Epoch 48/50\n",
            "156/156 [==============================] - 20s 127ms/step - loss: 0.3701 - accuracy: 0.9007 - val_loss: 0.5128 - val_accuracy: 0.8552\n",
            "Epoch 49/50\n",
            "156/156 [==============================] - 20s 127ms/step - loss: 0.3428 - accuracy: 0.9079 - val_loss: 0.4988 - val_accuracy: 0.8311\n",
            "Epoch 50/50\n",
            "156/156 [==============================] - 20s 127ms/step - loss: 0.3552 - accuracy: 0.9020 - val_loss: 0.4551 - val_accuracy: 0.8468\n"
          ],
          "name": "stdout"
        }
      ]
    },
    {
      "cell_type": "code",
      "metadata": {
        "id": "zn1mkDXPAp9A",
        "colab_type": "code",
        "colab": {
          "base_uri": "https://localhost:8080/",
          "height": 163
        },
        "outputId": "54f227ae-bfbf-43d9-f89f-a8baa78ab75b"
      },
      "source": [
        "history_plotter(history)"
      ],
      "execution_count": 1,
      "outputs": [
        {
          "output_type": "error",
          "ename": "NameError",
          "evalue": "ignored",
          "traceback": [
            "\u001b[0;31m---------------------------------------------------------------------------\u001b[0m",
            "\u001b[0;31mNameError\u001b[0m                                 Traceback (most recent call last)",
            "\u001b[0;32m<ipython-input-1-4276780484f7>\u001b[0m in \u001b[0;36m<module>\u001b[0;34m()\u001b[0m\n\u001b[0;32m----> 1\u001b[0;31m \u001b[0mhistory_plotter\u001b[0m\u001b[0;34m(\u001b[0m\u001b[0mhistory\u001b[0m\u001b[0;34m)\u001b[0m\u001b[0;34m\u001b[0m\u001b[0;34m\u001b[0m\u001b[0m\n\u001b[0m",
            "\u001b[0;31mNameError\u001b[0m: name 'history_plotter' is not defined"
          ]
        }
      ]
    },
    {
      "cell_type": "code",
      "metadata": {
        "id": "sgBtYoQI_yf7",
        "colab_type": "code",
        "colab": {}
      },
      "source": [
        ""
      ],
      "execution_count": null,
      "outputs": []
    }
  ]
}